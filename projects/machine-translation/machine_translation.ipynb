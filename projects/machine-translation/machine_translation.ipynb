{
 "cells": [
  {
   "cell_type": "markdown",
   "metadata": {
    "collapsed": true
   },
   "source": [
    "# Artificial Intelligence Nanodegree\n",
    "## Machine Translation Project\n",
    "In this notebook, sections that end with **'(IMPLEMENTATION)'** in the header indicate that the following blocks of code will require additional functionality which you must provide. Please be sure to read the instructions carefully!\n",
    "\n",
    "## Introduction\n",
    "In this notebook, you will build a deep neural network that functions as part of an end-to-end machine translation pipeline. Your completed pipeline will accept English text as input and return the French translation.\n",
    "\n",
    "- **Preprocess** - You'll convert text to sequence of integers.\n",
    "- **Models** Create models which accepts a sequence of integers as input and returns a probability distribution over possible translations. After learning about the basic types of neural networks that are often used for machine translation, you will engage in your own investigations, to design your own model!\n",
    "- **Prediction** Run the model on English text."
   ]
  },
  {
   "cell_type": "code",
   "execution_count": 1,
   "metadata": {},
   "outputs": [],
   "source": [
    "%load_ext autoreload\n",
    "%aimport helper, tests\n",
    "%autoreload 1"
   ]
  },
  {
   "cell_type": "code",
   "execution_count": 2,
   "metadata": {},
   "outputs": [
    {
     "name": "stderr",
     "output_type": "stream",
     "text": [
      "Using TensorFlow backend.\n"
     ]
    }
   ],
   "source": [
    "import collections\n",
    "\n",
    "import helper\n",
    "import numpy as np\n",
    "import project_tests as tests\n",
    "\n",
    "from keras.preprocessing.text import Tokenizer\n",
    "from keras.preprocessing.sequence import pad_sequences\n",
    "from keras.models import Model, Sequential\n",
    "from keras.layers import LSTM, Dropout, GRU, Input, Dense, TimeDistributed, Activation, RepeatVector, Bidirectional\n",
    "from keras.layers.embeddings import Embedding\n",
    "from keras.optimizers import Adam\n",
    "from keras.losses import sparse_categorical_crossentropy"
   ]
  },
  {
   "cell_type": "markdown",
   "metadata": {},
   "source": [
    "### Verify access to the GPU\n",
    "The following test applies only if you expect to be using a GPU, e.g., while running in a Udacity Workspace or using an AWS instance with GPU support. Run the next cell, and verify that the device_type is \"GPU\".\n",
    "- If the device is not GPU & you are running from a Udacity Workspace, then save your workspace with the icon at the top, then click \"enable\" at the bottom of the workspace.\n",
    "- If the device is not GPU & you are running from an AWS instance, then refer to the cloud computing instructions in the classroom to verify your setup steps."
   ]
  },
  {
   "cell_type": "code",
   "execution_count": 3,
   "metadata": {},
   "outputs": [
    {
     "name": "stdout",
     "output_type": "stream",
     "text": [
      "[name: \"/cpu:0\"\n",
      "device_type: \"CPU\"\n",
      "memory_limit: 268435456\n",
      "locality {\n",
      "}\n",
      "incarnation: 11130985716984216142\n",
      ", name: \"/gpu:0\"\n",
      "device_type: \"GPU\"\n",
      "memory_limit: 357302272\n",
      "locality {\n",
      "  bus_id: 1\n",
      "}\n",
      "incarnation: 13630989628875700755\n",
      "physical_device_desc: \"device: 0, name: Tesla K80, pci bus id: 0000:00:04.0\"\n",
      "]\n"
     ]
    }
   ],
   "source": [
    "from tensorflow.python.client import device_lib\n",
    "print(device_lib.list_local_devices())"
   ]
  },
  {
   "cell_type": "markdown",
   "metadata": {},
   "source": [
    "## Dataset\n",
    "We begin by investigating the dataset that will be used to train and evaluate your pipeline.  The most common datasets used for machine translation are from [WMT](http://www.statmt.org/).  However, that will take a long time to train a neural network on.  We'll be using a dataset we created for this project that contains a small vocabulary.  You'll be able to train your model in a reasonable time with this dataset.\n",
    "### Load Data\n",
    "The data is located in `data/small_vocab_en` and `data/small_vocab_fr`. The `small_vocab_en` file contains English sentences with their French translations in the `small_vocab_fr` file. Load the English and French data from these files from running the cell below."
   ]
  },
  {
   "cell_type": "code",
   "execution_count": 4,
   "metadata": {},
   "outputs": [
    {
     "name": "stdout",
     "output_type": "stream",
     "text": [
      "Dataset loaded.\n"
     ]
    }
   ],
   "source": [
    "# load English data\n",
    "english_sentences = helper.load_data('data/small_vocab_en')\n",
    "\n",
    "# load French data\n",
    "french_sentences = helper.load_data('data/small_vocab_fr')\n",
    "\n",
    "print('Dataset loaded.')"
   ]
  },
  {
   "cell_type": "markdown",
   "metadata": {},
   "source": [
    "### Files\n",
    "Each line in `small_vocab_en` contains an English sentence with the respective translation in each line of `small_vocab_fr`.  View the first two lines from each file."
   ]
  },
  {
   "cell_type": "code",
   "execution_count": 5,
   "metadata": {},
   "outputs": [
    {
     "data": {
      "text/plain": [
       "True"
      ]
     },
     "execution_count": 5,
     "metadata": {},
     "output_type": "execute_result"
    }
   ],
   "source": [
    "# test if the 2 datasets have the same length\n",
    "len(english_sentences) == len(french_sentences)"
   ]
  },
  {
   "cell_type": "code",
   "execution_count": 6,
   "metadata": {},
   "outputs": [
    {
     "name": "stdout",
     "output_type": "stream",
     "text": [
      "small_vocab_en line 1: new jersey is sometimes quiet during autumn , and it is snowy in april .\n",
      "small_vocab_fr line 1: new jersey est parfois calme pendant l' automne , et il est neigeux en avril .\n",
      "small_vocab_en line 2: the united states is usually chilly during july , and it is usually freezing in november .\n",
      "small_vocab_fr line 2: les états-unis est généralement froid en juillet , et il gèle habituellement en novembre .\n"
     ]
    }
   ],
   "source": [
    "for i in range(2):\n",
    "    print(f'small_vocab_en line {i+1}: {english_sentences[i]}')\n",
    "    print(f'small_vocab_fr line {i+1}: {french_sentences[i]}')"
   ]
  },
  {
   "cell_type": "markdown",
   "metadata": {},
   "source": [
    "From looking at the sentences, you can see they have been preprocessed already.  The puncuations have been delimited using spaces. All the text have been converted to lowercase.  This should save you some time, but the text requires more preprocessing.\n",
    "### Vocabulary\n",
    "The complexity of the problem is determined by the complexity of the vocabulary.  A more complex vocabulary is a more complex problem.  Let's look at the complexity of the dataset we'll be working with."
   ]
  },
  {
   "cell_type": "code",
   "execution_count": 7,
   "metadata": {},
   "outputs": [
    {
     "name": "stdout",
     "output_type": "stream",
     "text": [
      "1823250 English words.\n",
      "227 unique English words.\n",
      "10 most commmon words in the English dataset:\n",
      "\"is\" \",\" \".\" \"in\" \"it\" \"during\" \"the\" \"but\" \"and\" \"sometimes\"\n",
      "\n",
      "\n",
      "1961295 French words.\n",
      "355 unique French words.\n",
      "10 most commmon words in the French dataset:\n",
      "\"est\" \".\" \",\" \"en\" \"il\" \"les\" \"mais\" \"et\" \"la\" \"parfois\"\n"
     ]
    }
   ],
   "source": [
    "english_words_counter = collections.Counter([word for sentence in english_sentences for word in sentence.split()])\n",
    "french_words_counter = collections.Counter([word for sentence in french_sentences for word in sentence.split()])\n",
    "\n",
    "print(f'{len([word for sentence in english_sentences for word in sentence.split()])} English words.')\n",
    "print(f'{len(english_words_counter)} unique English words.')\n",
    "print(f'10 most commmon words in the English dataset:')\n",
    "print('\"' + '\" \"'.join(list(zip(*english_words_counter.most_common(10)))[0]) + '\"')\n",
    "print('\\n')\n",
    "print(f'{len([word for sentence in french_sentences for word in sentence.split()])} French words.')\n",
    "print(f'{len(french_words_counter)} unique French words.')\n",
    "print(f'10 most commmon words in the French dataset:')\n",
    "print('\"' + '\" \"'.join(list(zip(*french_words_counter.most_common(10)))[0]) + '\"')"
   ]
  },
  {
   "cell_type": "markdown",
   "metadata": {},
   "source": [
    "For comparison, _Alice's Adventures in Wonderland_ contains 2,766 unique words of a total of 15,500 words.\n",
    "## Preprocess\n",
    "For this project, you won't use text data as input to your model. Instead, you'll convert the text into sequences of integers using the following preprocess methods:\n",
    "1. Tokenize the words into ids\n",
    "2. Add padding to make all the sequences the same length.\n",
    "\n",
    "Time to start preprocessing the data...\n",
    "### Tokenize (IMPLEMENTATION)\n",
    "For a neural network to predict on text data, it first has to be turned into data it can understand. Text data like \"dog\" is a sequence of ASCII character encodings.  Since a neural network is a series of multiplication and addition operations, the input data needs to be number(s).\n",
    "\n",
    "We can turn each character into a number or each word into a number.  These are called character and word ids, respectively.  Character ids are used for character level models that generate text predictions for each character.  A word level model uses word ids that generate text predictions for each word.  Word level models tend to learn better, since they are lower in complexity, so we'll use those.\n",
    "\n",
    "Turn each sentence into a sequence of words ids using Keras's [`Tokenizer`](https://keras.io/preprocessing/text/#tokenizer) function. Use this function to tokenize `english_sentences` and `french_sentences` in the cell below.\n",
    "\n",
    "Running the cell will run `tokenize` on sample data and show output for debugging."
   ]
  },
  {
   "cell_type": "code",
   "execution_count": 8,
   "metadata": {},
   "outputs": [
    {
     "name": "stdout",
     "output_type": "stream",
     "text": [
      "{'the': 1, 'quick': 2, 'a': 3, 'brown': 4, 'fox': 5, 'jumps': 6, 'over': 7, 'lazy': 8, 'dog': 9, 'by': 10, 'jove': 11, 'my': 12, 'study': 13, 'of': 14, 'lexicography': 15, 'won': 16, 'prize': 17, 'this': 18, 'is': 19, 'short': 20, 'sentence': 21}\n",
      "\n",
      "Sequence 1 in x\n",
      "  Input:  The quick brown fox jumps over the lazy dog .\n",
      "  Output: [1, 2, 4, 5, 6, 7, 1, 8, 9]\n",
      "Sequence 2 in x\n",
      "  Input:  By Jove , my quick study of lexicography won a prize .\n",
      "  Output: [10, 11, 12, 2, 13, 14, 15, 16, 3, 17]\n",
      "Sequence 3 in x\n",
      "  Input:  This is a short sentence .\n",
      "  Output: [18, 19, 3, 20, 21]\n"
     ]
    }
   ],
   "source": [
    "def tokenize(x):\n",
    "    \"\"\"\n",
    "    Tokenize x\n",
    "    :param x: List of sentences/strings to be tokenized\n",
    "    :return: Tuple of (tokenized x data, tokenizer used to tokenize x)\n",
    "    \"\"\"\n",
    "    # TODO: Implement\n",
    "    token = Tokenizer()\n",
    "    token.fit_on_texts(x)\n",
    "    \n",
    "    return token.texts_to_sequences(x), token\n",
    "\n",
    "tests.test_tokenize(tokenize)\n",
    "\n",
    "# Tokenize Example output\n",
    "text_sentences = [\n",
    "    'The quick brown fox jumps over the lazy dog .',\n",
    "    'By Jove , my quick study of lexicography won a prize .',\n",
    "    'This is a short sentence .']\n",
    "\n",
    "text_tokenized, text_tokenizer = tokenize(text_sentences)\n",
    "\n",
    "print(text_tokenizer.word_index)\n",
    "print()\n",
    "for sample_i, (sent, token_sent) in enumerate(zip(text_sentences, text_tokenized)):\n",
    "    print('Sequence {} in x'.format(sample_i + 1))\n",
    "    print('  Input:  {}'.format(sent))\n",
    "    print('  Output: {}'.format(token_sent))"
   ]
  },
  {
   "cell_type": "markdown",
   "metadata": {},
   "source": [
    "### Padding (IMPLEMENTATION)\n",
    "When batching the sequence of word ids together, each sequence needs to be the same length.  Since sentences are dynamic in length, we can add padding to the end of the sequences to make them the same length.\n",
    "\n",
    "Make sure all the English sequences have the same length and all the French sequences have the same length by adding padding to the **end** of each sequence using Keras's [`pad_sequences`](https://keras.io/preprocessing/sequence/#pad_sequences) function."
   ]
  },
  {
   "cell_type": "code",
   "execution_count": 9,
   "metadata": {},
   "outputs": [
    {
     "name": "stdout",
     "output_type": "stream",
     "text": [
      "Sequence 1 in x\n",
      "  Input:  [1 2 4 5 6 7 1 8 9]\n",
      "  Output: [1 2 4 5 6 7 1 8 9 0]\n",
      "Sequence 2 in x\n",
      "  Input:  [10 11 12  2 13 14 15 16  3 17]\n",
      "  Output: [10 11 12  2 13 14 15 16  3 17]\n",
      "Sequence 3 in x\n",
      "  Input:  [18 19  3 20 21]\n",
      "  Output: [18 19  3 20 21  0  0  0  0  0]\n"
     ]
    }
   ],
   "source": [
    "def pad(x, length=None):\n",
    "    \"\"\"\n",
    "    Pad x\n",
    "    :param x: List of sequences.\n",
    "    :param length: Length to pad the sequence to.  If None, use length of longest sequence in x.\n",
    "    :return: Padded numpy array of sequences\n",
    "    \"\"\"\n",
    "    # TODO: Implement\n",
    "    if length is None:\n",
    "        length = max([len(seq) for seq in x])\n",
    "    \n",
    "    return pad_sequences(x, maxlen=length, padding='post')\n",
    "\n",
    "tests.test_pad(pad)\n",
    "\n",
    "# Pad Tokenized output\n",
    "test_pad = pad(text_tokenized)\n",
    "for sample_i, (token_sent, pad_sent) in enumerate(zip(text_tokenized, test_pad)):\n",
    "    print('Sequence {} in x'.format(sample_i + 1))\n",
    "    print('  Input:  {}'.format(np.array(token_sent)))\n",
    "    print('  Output: {}'.format(pad_sent))"
   ]
  },
  {
   "cell_type": "markdown",
   "metadata": {},
   "source": [
    "### Preprocess Pipeline\n",
    "Your focus for this project is to build neural network architecture, so we won't ask you to create a preprocess pipeline.  Instead, we've provided you with the implementation of the `preprocess` function."
   ]
  },
  {
   "cell_type": "code",
   "execution_count": 10,
   "metadata": {},
   "outputs": [],
   "source": [
    "def preprocess(x, y):\n",
    "    \"\"\"Preprocess x and y.\n",
    "    :param x: feature list of sentences.\n",
    "    :param y: label list of sentences.\n",
    "    :return: tuple of (preprocessed x, preprocessed y, x tokenizer, y tokenizer)\n",
    "    \"\"\"\n",
    "    \n",
    "    # tokenize\n",
    "    preproc_x, x_tk = tokenize(x)\n",
    "    preproc_y, y_tk = tokenize(y)\n",
    "    \n",
    "    # padding\n",
    "    preproc_x = pad(preproc_x)\n",
    "    preproc_y = pad(preproc_y)\n",
    "    \n",
    "    # Keras's sparse_categorical_crossentropy function requires the labels to be in 3 dimensions\n",
    "    preproc_y = preproc_y.reshape(*preproc_y.shape, 1)\n",
    "    \n",
    "    return preproc_x, preproc_y, x_tk, y_tk"
   ]
  },
  {
   "cell_type": "code",
   "execution_count": 11,
   "metadata": {},
   "outputs": [
    {
     "name": "stdout",
     "output_type": "stream",
     "text": [
      "Data preprocessed.\n",
      "Max English sentence length: 15\n",
      "Max French sentence length: 21\n",
      "English vocabulary size: 199\n",
      "French vocabulary size: 344\n"
     ]
    }
   ],
   "source": [
    "preproc_en_sentences, preproc_fr_sentences, en_token, fr_token = preprocess(english_sentences, french_sentences)\n",
    "\n",
    "max_en_seq_len = preproc_en_sentences.shape[1]\n",
    "max_fr_seq_len = preproc_fr_sentences.shape[1]\n",
    "en_vocab_size = len(en_token.word_index)\n",
    "fr_vocab_size = len(fr_token.word_index)\n",
    "\n",
    "print('Data preprocessed.')\n",
    "print(f'Max English sentence length: {max_en_seq_len}')\n",
    "print(f'Max French sentence length: {max_fr_seq_len}')\n",
    "print(f'English vocabulary size: {en_vocab_size}')\n",
    "print(f'French vocabulary size: {fr_vocab_size}')"
   ]
  },
  {
   "cell_type": "markdown",
   "metadata": {},
   "source": [
    "## Models\n",
    "In this section, you will experiment with various neural network architectures.\n",
    "You will begin by training four relatively simple architectures.\n",
    "- Model 1 is a simple RNN\n",
    "- Model 2 is a RNN with Embedding\n",
    "- Model 3 is a Bidirectional RNN\n",
    "- Model 4 is an optional Encoder-Decoder RNN\n",
    "\n",
    "After experimenting with the four simple architectures, you will construct a deeper architecture that is designed to outperform all four models.\n",
    "### Ids Back to Text\n",
    "The neural network will be translating the input to words ids, which isn't the final form we want.  We want the French translation.  The function `logits_to_text` will bridge the gab between the logits from the neural network to the French translation.  You'll be using this function to better understand the output of the neural network."
   ]
  },
  {
   "cell_type": "code",
   "execution_count": 12,
   "metadata": {},
   "outputs": [
    {
     "name": "stdout",
     "output_type": "stream",
     "text": [
      "`logits_to_text` function loaded.\n"
     ]
    }
   ],
   "source": [
    "def logits_to_text(logits, tokenizer):\n",
    "    \"\"\"\n",
    "    Turn logits from a neural network into text using the tokenizer\n",
    "    :param logits: Logits from a neural network\n",
    "    :param tokenizer: Keras Tokenizer fit on the labels\n",
    "    :return: String that represents the text of the logits\n",
    "    \"\"\"\n",
    "    \n",
    "    index_to_words = {id: word for (word, id) in tokenizer.word_index.items()}\n",
    "    index_to_words[0] = '<PAD>'\n",
    "    \n",
    "    return ' '.join([index_to_words[prediction] for prediction in np.argmax(logits, axis=1)])\n",
    "\n",
    "print('`logits_to_text` function loaded.')"
   ]
  },
  {
   "cell_type": "markdown",
   "metadata": {},
   "source": [
    "### Model 1: RNN (IMPLEMENTATION)\n",
    "![RNN](images/rnn.png)\n",
    "A basic RNN model is a good baseline for sequence data.  In this model, you'll build a RNN that translates English to French."
   ]
  },
  {
   "cell_type": "code",
   "execution_count": 20,
   "metadata": {},
   "outputs": [],
   "source": [
    "def simple_model(input_shape, output_sequence_length, english_vocab_size, french_vocab_size):\n",
    "    \"\"\"\n",
    "    Build and train a basic RNN on x and y\n",
    "    :param input_shape: Tuple of input shape\n",
    "    :param output_sequence_length: Length of output sequence\n",
    "    :param english_vocab_size: Number of unique English words in the dataset\n",
    "    :param french_vocab_size: Number of unique French words in the dataset\n",
    "    :return: Keras model built, but not trained\n",
    "    \"\"\"\n",
    "    # TODO: Build the layers\n",
    "    # model architecture\n",
    "    model = Sequential()\n",
    "    model.add(LSTM(256, input_shape=input_shape[1:], return_sequences=True))\n",
    "    model.add(Dropout(0.5))\n",
    "    model.add(TimeDistributed(Dense(french_vocab_size, activation='softmax')))\n",
    "    \n",
    "    # compile model\n",
    "    learning_rate = 1e-3\n",
    "    model.compile(loss=sparse_categorical_crossentropy,\n",
    "                  optimizer=Adam(learning_rate),\n",
    "                  metrics=['accuracy'])\n",
    "    return model\n",
    "\n",
    "tests.test_simple_model(simple_model)"
   ]
  },
  {
   "cell_type": "code",
   "execution_count": 21,
   "metadata": {},
   "outputs": [
    {
     "name": "stdout",
     "output_type": "stream",
     "text": [
      "_________________________________________________________________\n",
      "Layer (type)                 Output Shape              Param #   \n",
      "=================================================================\n",
      "lstm_3 (LSTM)                (None, 21, 256)           264192    \n",
      "_________________________________________________________________\n",
      "dropout_3 (Dropout)          (None, 21, 256)           0         \n",
      "_________________________________________________________________\n",
      "time_distributed_5 (TimeDist (None, 21, 344)           88408     \n",
      "=================================================================\n",
      "Total params: 352,600\n",
      "Trainable params: 352,600\n",
      "Non-trainable params: 0\n",
      "_________________________________________________________________\n",
      "None\n",
      "Train on 110288 samples, validate on 27573 samples\n",
      "Epoch 1/10\n",
      "110288/110288 [==============================] - 13s 119us/step - loss: 2.7093 - acc: 0.4588 - val_loss: nan - val_acc: 0.5371\n",
      "Epoch 2/10\n",
      "110288/110288 [==============================] - 13s 114us/step - loss: 1.8049 - acc: 0.5527 - val_loss: nan - val_acc: 0.5983\n",
      "Epoch 3/10\n",
      "110288/110288 [==============================] - 13s 114us/step - loss: 1.5698 - acc: 0.5894 - val_loss: nan - val_acc: 0.6219\n",
      "Epoch 4/10\n",
      "110288/110288 [==============================] - 13s 114us/step - loss: 1.4528 - acc: 0.6058 - val_loss: nan - val_acc: 0.6294\n",
      "Epoch 5/10\n",
      "110288/110288 [==============================] - 13s 114us/step - loss: 1.3805 - acc: 0.6158 - val_loss: nan - val_acc: 0.6415\n",
      "Epoch 6/10\n",
      "110288/110288 [==============================] - 13s 114us/step - loss: 1.3253 - acc: 0.6249 - val_loss: nan - val_acc: 0.6446\n",
      "Epoch 7/10\n",
      "110288/110288 [==============================] - 13s 114us/step - loss: 1.2860 - acc: 0.6312 - val_loss: nan - val_acc: 0.6520\n",
      "Epoch 8/10\n",
      "110288/110288 [==============================] - 13s 114us/step - loss: 1.2523 - acc: 0.6369 - val_loss: nan - val_acc: 0.6589\n",
      "Epoch 9/10\n",
      "110288/110288 [==============================] - 13s 115us/step - loss: 1.2248 - acc: 0.6415 - val_loss: nan - val_acc: 0.6610\n",
      "Epoch 10/10\n",
      "110288/110288 [==============================] - 13s 115us/step - loss: 1.2052 - acc: 0.6448 - val_loss: nan - val_acc: 0.6639\n",
      "new jersey est parfois calme en l' et il est il est en en <PAD> <PAD> <PAD> <PAD> <PAD> <PAD> <PAD>\n"
     ]
    }
   ],
   "source": [
    "# reshaping the input to work with a basic RNN\n",
    "tmp_x = pad(preproc_en_sentences, max_fr_seq_len)\n",
    "tmp_x = tmp_x.reshape((-1, preproc_fr_sentences.shape[-2], 1))\n",
    "\n",
    "# train the neural network\n",
    "simple_rnn_model = simple_model(\n",
    "    tmp_x.shape,\n",
    "    max_fr_seq_len,\n",
    "    en_vocab_size,\n",
    "    fr_vocab_size\n",
    ")\n",
    "\n",
    "# model summary\n",
    "print(simple_rnn_model.summary())\n",
    "\n",
    "simple_rnn_model.fit(\n",
    "    tmp_x, \n",
    "    preproc_fr_sentences, \n",
    "    batch_size=1024, \n",
    "    epochs=10, \n",
    "    validation_split=0.2\n",
    ")\n",
    "\n",
    "# print prediction\n",
    "print(logits_to_text(simple_rnn_model.predict(tmp_x[:1])[0], fr_token))"
   ]
  },
  {
   "cell_type": "code",
   "execution_count": 48,
   "metadata": {},
   "outputs": [
    {
     "name": "stdout",
     "output_type": "stream",
     "text": [
      "Original English sentence: \n",
      "new jersey is sometimes quiet during autumn , and it is snowy in april .\n",
      "\n",
      "\n",
      "Model translation: \n",
      "new jersey est parfois calme en l' et il est il est en en <PAD> <PAD> <PAD> <PAD> <PAD> <PAD> <PAD>\n",
      "\n",
      "\n",
      "Correct French translation: \n",
      "new jersey est parfois calme pendant l' automne , et il est neigeux en avril .\n"
     ]
    }
   ],
   "source": [
    "print('Original English sentence: ')\n",
    "print(english_sentences[:1][0])\n",
    "print('\\n')\n",
    "print('Model translation: ')\n",
    "print(logits_to_text(simple_rnn_model.predict(tmp_x[:1])[0], fr_token))\n",
    "print('\\n')\n",
    "print('Correct French translation: ')\n",
    "print(french_sentences[:1][0])"
   ]
  },
  {
   "cell_type": "markdown",
   "metadata": {},
   "source": [
    "### Model 2: Embedding (IMPLEMENTATION)\n",
    "![RNN](images/embedding.png)\n",
    "You've turned the words into ids, but there's a better representation of a word.  This is called word embeddings.  An embedding is a vector representation of the word that is close to similar words in n-dimensional space, where the n represents the size of the embedding vectors.\n",
    "\n",
    "In this model, you'll create a RNN model using embedding."
   ]
  },
  {
   "cell_type": "code",
   "execution_count": 36,
   "metadata": {},
   "outputs": [],
   "source": [
    "def embed_model(input_shape, output_sequence_length, english_vocab_size, french_vocab_size):\n",
    "    \"\"\"\n",
    "    Build and train a RNN model using word embedding on x and y\n",
    "    :param input_shape: Tuple of input shape\n",
    "    :param output_sequence_length: Length of output sequence\n",
    "    :param english_vocab_size: Number of unique English words in the dataset\n",
    "    :param french_vocab_size: Number of unique French words in the dataset\n",
    "    :return: Keras model built, but not trained\n",
    "    \"\"\"\n",
    "    # TODO: Implement\n",
    "    # model architecture        \n",
    "    model = Sequential()\n",
    "    model.add(Embedding(input_dim=english_vocab_size, \n",
    "                        output_dim=256, \n",
    "                        input_length=input_shape[1], \n",
    "                        input_shape=input_shape[1:]))\n",
    "    model.add(LSTM(256, return_sequences=True))\n",
    "    model.add(Dropout(0.5))\n",
    "    model.add(TimeDistributed(Dense(french_vocab_size, activation='softmax')))\n",
    "    \n",
    "    # compile model\n",
    "    learning_rate = 1e-3\n",
    "    model.compile(loss=sparse_categorical_crossentropy,\n",
    "                  optimizer=Adam(learning_rate),\n",
    "                  metrics=['accuracy'])\n",
    "    \n",
    "    return model\n",
    "\n",
    "tests.test_embed_model(embed_model)"
   ]
  },
  {
   "cell_type": "code",
   "execution_count": 16,
   "metadata": {},
   "outputs": [],
   "source": [
    "# reshaping the input\n",
    "tmp_x = pad(preproc_en_sentences, max_fr_seq_len)\n",
    "tmp_x = tmp_x.reshape((-1, preproc_fr_sentences.shape[-2]))"
   ]
  },
  {
   "cell_type": "code",
   "execution_count": 38,
   "metadata": {},
   "outputs": [
    {
     "name": "stdout",
     "output_type": "stream",
     "text": [
      "Train on 110288 samples, validate on 27573 samples\n",
      "Epoch 1/10\n",
      "110288/110288 [==============================] - 17s 156us/step - loss: 3.0836 - acc: 0.4450 - val_loss: nan - val_acc: 0.4965\n",
      "Epoch 2/10\n",
      "110288/110288 [==============================] - 16s 148us/step - loss: 1.9249 - acc: 0.5506 - val_loss: nan - val_acc: 0.6345\n",
      "Epoch 3/10\n",
      "110288/110288 [==============================] - 16s 149us/step - loss: 1.3334 - acc: 0.6601 - val_loss: nan - val_acc: 0.7337\n",
      "Epoch 4/10\n",
      "110288/110288 [==============================] - 16s 149us/step - loss: 0.9457 - acc: 0.7505 - val_loss: nan - val_acc: 0.8077\n",
      "Epoch 5/10\n",
      "110288/110288 [==============================] - 16s 148us/step - loss: 0.7090 - acc: 0.8013 - val_loss: nan - val_acc: 0.8367\n",
      "Epoch 6/10\n",
      "110288/110288 [==============================] - 16s 148us/step - loss: 0.5886 - acc: 0.8282 - val_loss: nan - val_acc: 0.8541\n",
      "Epoch 7/10\n",
      "110288/110288 [==============================] - 16s 149us/step - loss: 0.5141 - acc: 0.8476 - val_loss: nan - val_acc: 0.8760\n",
      "Epoch 8/10\n",
      "110288/110288 [==============================] - 16s 149us/step - loss: 0.4618 - acc: 0.8620 - val_loss: nan - val_acc: 0.8872\n",
      "Epoch 9/10\n",
      "110288/110288 [==============================] - 16s 149us/step - loss: 0.4197 - acc: 0.8738 - val_loss: nan - val_acc: 0.8967\n",
      "Epoch 10/10\n",
      "110288/110288 [==============================] - 16s 148us/step - loss: 0.3865 - acc: 0.8833 - val_loss: nan - val_acc: 0.9031\n",
      "new jersey est parfois calme en l' et il est neigeux neigeux en <PAD> <PAD> <PAD> <PAD> <PAD> <PAD> <PAD> <PAD>\n"
     ]
    }
   ],
   "source": [
    "# train the neural network\n",
    "embed_model = embed_model(\n",
    "    tmp_x.shape,\n",
    "    max_fr_seq_len,\n",
    "    en_vocab_size,\n",
    "    fr_vocab_size\n",
    ")\n",
    "\n",
    "embed_model.fit(\n",
    "    tmp_x, \n",
    "    preproc_fr_sentences, \n",
    "    batch_size=1024, \n",
    "    epochs=10, \n",
    "    validation_split=0.2\n",
    ")\n",
    "\n",
    "# print prediction\n",
    "print(logits_to_text(embed_model.predict(tmp_x[:1])[0], fr_token))"
   ]
  },
  {
   "cell_type": "code",
   "execution_count": 41,
   "metadata": {},
   "outputs": [
    {
     "name": "stdout",
     "output_type": "stream",
     "text": [
      "_________________________________________________________________\n",
      "Layer (type)                 Output Shape              Param #   \n",
      "=================================================================\n",
      "embedding_9 (Embedding)      (None, 21, 256)           50944     \n",
      "_________________________________________________________________\n",
      "lstm_11 (LSTM)               (None, 21, 256)           525312    \n",
      "_________________________________________________________________\n",
      "dropout_9 (Dropout)          (None, 21, 256)           0         \n",
      "_________________________________________________________________\n",
      "time_distributed_11 (TimeDis (None, 21, 344)           88408     \n",
      "=================================================================\n",
      "Total params: 664,664\n",
      "Trainable params: 664,664\n",
      "Non-trainable params: 0\n",
      "_________________________________________________________________\n"
     ]
    }
   ],
   "source": [
    "embed_model.summary()"
   ]
  },
  {
   "cell_type": "code",
   "execution_count": 44,
   "metadata": {},
   "outputs": [
    {
     "name": "stdout",
     "output_type": "stream",
     "text": [
      "Original English sentence: \n",
      "new jersey is sometimes quiet during autumn , and it is snowy in april .\n",
      "\n",
      "\n",
      "Model translation: \n",
      "new jersey est parfois calme en l' et il est neigeux neigeux en <PAD> <PAD> <PAD> <PAD> <PAD> <PAD> <PAD> <PAD>\n",
      "\n",
      "\n",
      "Correct French translation: \n",
      "new jersey est parfois calme pendant l' automne , et il est neigeux en avril .\n"
     ]
    }
   ],
   "source": [
    "print('Original English sentence: ')\n",
    "print(english_sentences[:1][0])\n",
    "print('\\n')\n",
    "print('Model translation: ')\n",
    "print(logits_to_text(embed_model.predict(tmp_x[:1])[0], fr_token))\n",
    "print('\\n')\n",
    "print('Correct French translation: ')\n",
    "print(french_sentences[:1][0])"
   ]
  },
  {
   "cell_type": "markdown",
   "metadata": {},
   "source": [
    "### Model 3: Bidirectional RNNs (IMPLEMENTATION)\n",
    "![RNN](images/bidirectional.png)\n",
    "One restriction of a RNN is that it can't see the future input, only the past.  This is where bidirectional recurrent neural networks come in.  They are able to see the future data."
   ]
  },
  {
   "cell_type": "code",
   "execution_count": 45,
   "metadata": {
    "scrolled": true
   },
   "outputs": [],
   "source": [
    "def bd_model(input_shape, output_sequence_length, english_vocab_size, french_vocab_size):\n",
    "    \"\"\"\n",
    "    Build and train a bidirectional RNN model on x and y\n",
    "    :param input_shape: Tuple of input shape\n",
    "    :param output_sequence_length: Length of output sequence\n",
    "    :param english_vocab_size: Number of unique English words in the dataset\n",
    "    :param french_vocab_size: Number of unique French words in the dataset\n",
    "    :return: Keras model built, but not trained\n",
    "    \"\"\"\n",
    "    # TODO: Implement\n",
    "\n",
    "    # model architecture\n",
    "    model = Sequential()\n",
    "    model.add(Bidirectional(LSTM(256, return_sequences=True), \n",
    "                            input_shape=input_shape[1:]))\n",
    "    model.add(Dropout(0.5))\n",
    "    model.add(TimeDistributed(Dense(french_vocab_size, activation='softmax')))\n",
    "    \n",
    "    # compile model\n",
    "    learning_rate = 1e-3    \n",
    "    model.compile(loss=sparse_categorical_crossentropy,\n",
    "                  optimizer=Adam(learning_rate),\n",
    "                  metrics=['accuracy'])\n",
    "    \n",
    "    return model\n",
    "\n",
    "tests.test_bd_model(bd_model)"
   ]
  },
  {
   "cell_type": "code",
   "execution_count": 42,
   "metadata": {},
   "outputs": [],
   "source": [
    "# reshaping the input\n",
    "tmp_x = pad(preproc_en_sentences, max_fr_seq_len)\n",
    "tmp_x = tmp_x.reshape((-1, preproc_fr_sentences.shape[-2], 1))"
   ]
  },
  {
   "cell_type": "code",
   "execution_count": 46,
   "metadata": {},
   "outputs": [
    {
     "name": "stdout",
     "output_type": "stream",
     "text": [
      "Train on 110288 samples, validate on 27573 samples\n",
      "Epoch 1/10\n",
      "110288/110288 [==============================] - 25s 222us/step - loss: 2.2741 - acc: 0.5160 - val_loss: nan - val_acc: 0.6007\n",
      "Epoch 2/10\n",
      "110288/110288 [==============================] - 21s 194us/step - loss: 1.4759 - acc: 0.6017 - val_loss: nan - val_acc: 0.6349\n",
      "Epoch 3/10\n",
      "110288/110288 [==============================] - 21s 195us/step - loss: 1.3210 - acc: 0.6269 - val_loss: nan - val_acc: 0.6481\n",
      "Epoch 4/10\n",
      "110288/110288 [==============================] - 21s 195us/step - loss: 1.2477 - acc: 0.6382 - val_loss: nan - val_acc: 0.6625\n",
      "Epoch 5/10\n",
      "110288/110288 [==============================] - 22s 195us/step - loss: 1.1980 - acc: 0.6478 - val_loss: nan - val_acc: 0.6667\n",
      "Epoch 6/10\n",
      "110288/110288 [==============================] - 21s 195us/step - loss: 1.1585 - acc: 0.6557 - val_loss: nan - val_acc: 0.6807\n",
      "Epoch 7/10\n",
      "110288/110288 [==============================] - 21s 195us/step - loss: 1.1234 - acc: 0.6629 - val_loss: nan - val_acc: 0.6864\n",
      "Epoch 8/10\n",
      "110288/110288 [==============================] - 22s 195us/step - loss: 1.0939 - acc: 0.6689 - val_loss: nan - val_acc: 0.6895\n",
      "Epoch 9/10\n",
      "110288/110288 [==============================] - 22s 195us/step - loss: 1.0690 - acc: 0.6739 - val_loss: nan - val_acc: 0.6951\n",
      "Epoch 10/10\n",
      "110288/110288 [==============================] - 22s 195us/step - loss: 1.0491 - acc: 0.6776 - val_loss: nan - val_acc: 0.6920\n"
     ]
    },
    {
     "data": {
      "text/plain": [
       "<keras.callbacks.History at 0x7faa3103d748>"
      ]
     },
     "execution_count": 46,
     "metadata": {},
     "output_type": "execute_result"
    }
   ],
   "source": [
    "# TODO: Train and Print prediction(s)\n",
    "# train the neural network\n",
    "bd_model = bd_model(\n",
    "    tmp_x.shape,\n",
    "    max_fr_seq_len,\n",
    "    en_vocab_size,\n",
    "    fr_vocab_size\n",
    ")\n",
    "\n",
    "bd_model.fit(\n",
    "    tmp_x, \n",
    "    preproc_fr_sentences, \n",
    "    batch_size=1024, \n",
    "    epochs=10, \n",
    "    validation_split=0.2\n",
    ")"
   ]
  },
  {
   "cell_type": "code",
   "execution_count": 47,
   "metadata": {},
   "outputs": [
    {
     "name": "stdout",
     "output_type": "stream",
     "text": [
      "_________________________________________________________________\n",
      "Layer (type)                 Output Shape              Param #   \n",
      "=================================================================\n",
      "bidirectional_13 (Bidirectio (None, 21, 512)           528384    \n",
      "_________________________________________________________________\n",
      "dropout_4 (Dropout)          (None, 21, 512)           0         \n",
      "_________________________________________________________________\n",
      "time_distributed_4 (TimeDist (None, 21, 344)           176472    \n",
      "=================================================================\n",
      "Total params: 704,856\n",
      "Trainable params: 704,856\n",
      "Non-trainable params: 0\n",
      "_________________________________________________________________\n"
     ]
    }
   ],
   "source": [
    "bd_model.summary()"
   ]
  },
  {
   "cell_type": "code",
   "execution_count": 50,
   "metadata": {},
   "outputs": [
    {
     "name": "stdout",
     "output_type": "stream",
     "text": [
      "Original English sentence: \n",
      "new jersey is sometimes quiet during autumn , and it is snowy in april .\n",
      "\n",
      "\n",
      "Model translation: \n",
      "new jersey est parfois calme en mois et il est est en en <PAD> <PAD> <PAD> <PAD> <PAD> <PAD> <PAD> <PAD>\n",
      "\n",
      "\n",
      "Correct French translation: \n",
      "new jersey est parfois calme pendant l' automne , et il est neigeux en avril .\n"
     ]
    }
   ],
   "source": [
    "print('Original English sentence: ')\n",
    "print(english_sentences[:1][0])\n",
    "print('\\n')\n",
    "print('Model translation: ')\n",
    "print(logits_to_text(bd_model.predict(tmp_x[:1])[0], fr_token))\n",
    "print('\\n')\n",
    "print('Correct French translation: ')\n",
    "print(french_sentences[:1][0])"
   ]
  },
  {
   "cell_type": "markdown",
   "metadata": {},
   "source": [
    "### Model 4: Encoder-Decoder (OPTIONAL)\n",
    "Time to look at encoder-decoder models.  This model is made up of an encoder and decoder. The encoder creates a matrix representation of the sentence.  The decoder takes this matrix as input and predicts the translation as output.\n",
    "\n",
    "Create an encoder-decoder model in the cell below."
   ]
  },
  {
   "cell_type": "code",
   "execution_count": 85,
   "metadata": {},
   "outputs": [],
   "source": [
    "def encdec_model(input_shape, output_sequence_length, english_vocab_size, french_vocab_size):\n",
    "    \"\"\"\n",
    "    Build and train an encoder-decoder model on x and y\n",
    "    :param input_shape: Tuple of input shape\n",
    "    :param output_sequence_length: Length of output sequence\n",
    "    :param english_vocab_size: Number of unique English words in the dataset\n",
    "    :param french_vocab_size: Number of unique French words in the dataset\n",
    "    :return: Keras model built, but not trained\n",
    "    \"\"\"    \n",
    "    # OPTIONAL: Implement\n",
    "    # model architecture\n",
    "    model = Sequential()\n",
    "    # encoder\n",
    "    model.add(LSTM(256, input_shape=input_shape[1:]))\n",
    "    model.add(RepeatVector(output_sequence_length))\n",
    "    \n",
    "    # decoder\n",
    "    model.add(LSTM(256, return_sequences=True))\n",
    "    model.add(Dropout(0.5))\n",
    "    model.add(TimeDistributed(Dense(french_vocab_size, activation='softmax')))\n",
    "    \n",
    "    # compile model\n",
    "    learning_rate = 1e-3\n",
    "    model.compile(loss=sparse_categorical_crossentropy,\n",
    "                  optimizer=Adam(learning_rate),\n",
    "                  metrics=['accuracy'])\n",
    "    \n",
    "    return model\n",
    "\n",
    "tests.test_encdec_model(encdec_model)"
   ]
  },
  {
   "cell_type": "code",
   "execution_count": 86,
   "metadata": {},
   "outputs": [],
   "source": [
    "# reshaping the input\n",
    "tmp_x = pad(preproc_en_sentences, max_fr_seq_len)\n",
    "tmp_x = tmp_x.reshape((-1, preproc_fr_sentences.shape[-2], 1))"
   ]
  },
  {
   "cell_type": "code",
   "execution_count": 87,
   "metadata": {},
   "outputs": [
    {
     "name": "stdout",
     "output_type": "stream",
     "text": [
      "_________________________________________________________________\n",
      "Layer (type)                 Output Shape              Param #   \n",
      "=================================================================\n",
      "lstm_49 (LSTM)               (None, 256)               264192    \n",
      "_________________________________________________________________\n",
      "repeat_vector_16 (RepeatVect (None, 21, 256)           0         \n",
      "_________________________________________________________________\n",
      "lstm_50 (LSTM)               (None, 21, 256)           525312    \n",
      "_________________________________________________________________\n",
      "dropout_19 (Dropout)         (None, 21, 256)           0         \n",
      "_________________________________________________________________\n",
      "time_distributed_23 (TimeDis (None, 21, 344)           88408     \n",
      "=================================================================\n",
      "Total params: 877,912\n",
      "Trainable params: 877,912\n",
      "Non-trainable params: 0\n",
      "_________________________________________________________________\n",
      "None\n",
      "Train on 110288 samples, validate on 27573 samples\n",
      "Epoch 1/10\n",
      "110288/110288 [==============================] - 26s 233us/step - loss: 2.9240 - acc: 0.4462 - val_loss: nan - val_acc: 0.4894\n",
      "Epoch 2/10\n",
      "110288/110288 [==============================] - 24s 216us/step - loss: 2.2435 - acc: 0.5037 - val_loss: nan - val_acc: 0.5324\n",
      "Epoch 3/10\n",
      "110288/110288 [==============================] - 24s 215us/step - loss: 2.0101 - acc: 0.5316 - val_loss: nan - val_acc: 0.5532\n",
      "Epoch 4/10\n",
      "110288/110288 [==============================] - 24s 215us/step - loss: 1.7236 - acc: 0.5548 - val_loss: nan - val_acc: 0.5614\n",
      "Epoch 5/10\n",
      "110288/110288 [==============================] - 24s 215us/step - loss: 1.6039 - acc: 0.5701 - val_loss: nan - val_acc: 0.5956\n",
      "Epoch 6/10\n",
      "110288/110288 [==============================] - 24s 213us/step - loss: 1.5086 - acc: 0.5872 - val_loss: nan - val_acc: 0.6122\n",
      "Epoch 7/10\n",
      "110288/110288 [==============================] - 24s 214us/step - loss: 1.4423 - acc: 0.6011 - val_loss: nan - val_acc: 0.6226\n",
      "Epoch 8/10\n",
      "110288/110288 [==============================] - 23s 213us/step - loss: 1.3961 - acc: 0.6102 - val_loss: nan - val_acc: 0.6327\n",
      "Epoch 9/10\n",
      "110288/110288 [==============================] - 24s 214us/step - loss: 1.3621 - acc: 0.6170 - val_loss: nan - val_acc: 0.6368\n",
      "Epoch 10/10\n",
      "110288/110288 [==============================] - 24s 214us/step - loss: 1.3288 - acc: 0.6236 - val_loss: nan - val_acc: 0.6400\n"
     ]
    },
    {
     "data": {
      "text/plain": [
       "<keras.callbacks.History at 0x7fa9c8464fd0>"
      ]
     },
     "execution_count": 87,
     "metadata": {},
     "output_type": "execute_result"
    }
   ],
   "source": [
    "# OPTIONAL: Train and Print prediction(s)\n",
    "encdec_model = encdec_model(\n",
    "    tmp_x.shape,\n",
    "    max_fr_seq_len,\n",
    "    en_vocab_size,\n",
    "    fr_vocab_size\n",
    ")\n",
    "\n",
    "print(encdec_model.summary())\n",
    "\n",
    "encdec_model.fit(\n",
    "    tmp_x, \n",
    "    preproc_fr_sentences, \n",
    "    batch_size=1024, \n",
    "    epochs=10, \n",
    "    validation_split=0.2\n",
    ")"
   ]
  },
  {
   "cell_type": "code",
   "execution_count": 88,
   "metadata": {},
   "outputs": [
    {
     "name": "stdout",
     "output_type": "stream",
     "text": [
      "Original English sentence: \n",
      "new jersey is sometimes quiet during autumn , and it is snowy in april .\n",
      "\n",
      "\n",
      "Model translation: \n",
      "new jersey est jamais agréable en mois et il est est en en <PAD> <PAD> <PAD> <PAD> <PAD> <PAD> <PAD> <PAD>\n",
      "\n",
      "\n",
      "Correct French translation: \n",
      "new jersey est parfois calme pendant l' automne , et il est neigeux en avril .\n"
     ]
    }
   ],
   "source": [
    "print('Original English sentence: ')\n",
    "print(english_sentences[:1][0])\n",
    "print('\\n')\n",
    "print('Model translation: ')\n",
    "print(logits_to_text(encdec_model.predict(tmp_x[:1])[0], fr_token))\n",
    "print('\\n')\n",
    "print('Correct French translation: ')\n",
    "print(french_sentences[:1][0])"
   ]
  },
  {
   "cell_type": "markdown",
   "metadata": {},
   "source": [
    "### Model 5: Custom (IMPLEMENTATION)\n",
    "Use everything you learned from the previous models to create a model that incorporates embedding and a bidirectional rnn into one model."
   ]
  },
  {
   "cell_type": "code",
   "execution_count": 34,
   "metadata": {},
   "outputs": [
    {
     "name": "stdout",
     "output_type": "stream",
     "text": [
      "Final Model Loaded\n"
     ]
    }
   ],
   "source": [
    "def model_final(input_shape, output_sequence_length, english_vocab_size, french_vocab_size):\n",
    "    \"\"\"\n",
    "    Build and train a model that incorporates embedding, encoder-decoder, and bidirectional RNN on x and y\n",
    "    :param input_shape: Tuple of input shape\n",
    "    :param output_sequence_length: Length of output sequence\n",
    "    :param english_vocab_size: Number of unique English words in the dataset\n",
    "    :param french_vocab_size: Number of unique French words in the dataset\n",
    "    :return: Keras model built, but not trained\n",
    "    \"\"\"\n",
    "    # TODO: Implement\n",
    "    # model architecture        \n",
    "    model = Sequential()\n",
    "    model.add(Embedding(input_dim=english_vocab_size, \n",
    "                        output_dim=english_vocab_size, \n",
    "                        input_length=input_shape[1], \n",
    "                        input_shape=input_shape[1:]))\n",
    "    # encoder\n",
    "    model.add(Bidirectional(GRU(output_sequence_length*10)))\n",
    "    model.add(RepeatVector(output_sequence_length))\n",
    "    \n",
    "    # decoder\n",
    "    model.add(Bidirectional(GRU(output_sequence_length*10, return_sequences=True)))\n",
    "    model.add(Dropout(0.5))\n",
    "    model.add(TimeDistributed(Dense(french_vocab_size*10)))    \n",
    "    model.add(TimeDistributed(Dense(french_vocab_size, activation='softmax')))\n",
    "    \n",
    "    # compile model\n",
    "    learning_rate = 1e-3\n",
    "    model.compile(loss=sparse_categorical_crossentropy,\n",
    "                  optimizer=Adam(learning_rate),\n",
    "                  metrics=['accuracy'])\n",
    "    \n",
    "    \n",
    "    return model\n",
    "\n",
    "tests.test_model_final(model_final)\n",
    "print('Final Model Loaded')"
   ]
  },
  {
   "cell_type": "markdown",
   "metadata": {},
   "source": [
    "## Prediction (IMPLEMENTATION)"
   ]
  },
  {
   "cell_type": "code",
   "execution_count": 35,
   "metadata": {
    "scrolled": false
   },
   "outputs": [
    {
     "name": "stdout",
     "output_type": "stream",
     "text": [
      "_________________________________________________________________\n",
      "Layer (type)                 Output Shape              Param #   \n",
      "=================================================================\n",
      "embedding_21 (Embedding)     (None, 15, 199)           39601     \n",
      "_________________________________________________________________\n",
      "bidirectional_39 (Bidirectio (None, 420)               516600    \n",
      "_________________________________________________________________\n",
      "repeat_vector_20 (RepeatVect (None, 21, 420)           0         \n",
      "_________________________________________________________________\n",
      "bidirectional_40 (Bidirectio (None, 21, 420)           795060    \n",
      "_________________________________________________________________\n",
      "dropout_20 (Dropout)         (None, 21, 420)           0         \n",
      "_________________________________________________________________\n",
      "time_distributed_39 (TimeDis (None, 21, 3440)          1448240   \n",
      "_________________________________________________________________\n",
      "time_distributed_40 (TimeDis (None, 21, 344)           1183704   \n",
      "=================================================================\n",
      "Total params: 3,983,205\n",
      "Trainable params: 3,983,205\n",
      "Non-trainable params: 0\n",
      "_________________________________________________________________\n",
      "Train on 110288 samples, validate on 27573 samples\n",
      "Epoch 1/20\n",
      "110288/110288 [==============================] - 58s 525us/step - loss: 2.4896 - acc: 0.4680 - val_loss: nan - val_acc: 0.5421\n",
      "Epoch 2/20\n",
      "110288/110288 [==============================] - 55s 498us/step - loss: 1.6864 - acc: 0.5647 - val_loss: nan - val_acc: 0.6377\n",
      "Epoch 3/20\n",
      "110288/110288 [==============================] - 55s 499us/step - loss: 1.2655 - acc: 0.6483 - val_loss: nan - val_acc: 0.7081\n",
      "Epoch 4/20\n",
      "110288/110288 [==============================] - 55s 499us/step - loss: 1.0388 - acc: 0.6995 - val_loss: nan - val_acc: 0.7398\n",
      "Epoch 5/20\n",
      "110288/110288 [==============================] - 55s 499us/step - loss: 0.8711 - acc: 0.7387 - val_loss: nan - val_acc: 0.7902\n",
      "Epoch 6/20\n",
      "110288/110288 [==============================] - 55s 500us/step - loss: 0.7150 - acc: 0.7801 - val_loss: nan - val_acc: 0.8354\n",
      "Epoch 7/20\n",
      "110288/110288 [==============================] - 55s 500us/step - loss: 0.5781 - acc: 0.8193 - val_loss: nan - val_acc: 0.8768\n",
      "Epoch 8/20\n",
      "110288/110288 [==============================] - 55s 499us/step - loss: 0.4654 - acc: 0.8551 - val_loss: nan - val_acc: 0.8941\n",
      "Epoch 9/20\n",
      "110288/110288 [==============================] - 55s 499us/step - loss: 0.3948 - acc: 0.8770 - val_loss: nan - val_acc: 0.9100\n",
      "Epoch 10/20\n",
      "110288/110288 [==============================] - 55s 499us/step - loss: 0.3445 - acc: 0.8928 - val_loss: nan - val_acc: 0.9213\n",
      "Epoch 11/20\n",
      "110288/110288 [==============================] - 55s 500us/step - loss: 0.3038 - acc: 0.9059 - val_loss: nan - val_acc: 0.9296\n",
      "Epoch 12/20\n",
      "110288/110288 [==============================] - 55s 499us/step - loss: 0.2718 - acc: 0.9164 - val_loss: nan - val_acc: 0.9349\n",
      "Epoch 13/20\n",
      "110288/110288 [==============================] - 55s 499us/step - loss: 0.2468 - acc: 0.9248 - val_loss: nan - val_acc: 0.9433\n",
      "Epoch 14/20\n",
      "110288/110288 [==============================] - 55s 499us/step - loss: 0.2220 - acc: 0.9326 - val_loss: nan - val_acc: 0.9460\n",
      "Epoch 15/20\n",
      "110288/110288 [==============================] - 55s 500us/step - loss: 0.2082 - acc: 0.9368 - val_loss: nan - val_acc: 0.9499\n",
      "Epoch 16/20\n",
      "110288/110288 [==============================] - 55s 499us/step - loss: 0.1910 - acc: 0.9422 - val_loss: nan - val_acc: 0.9569\n",
      "Epoch 17/20\n",
      "110288/110288 [==============================] - 55s 498us/step - loss: 0.1771 - acc: 0.9467 - val_loss: nan - val_acc: 0.9585\n",
      "Epoch 18/20\n",
      "110288/110288 [==============================] - 55s 499us/step - loss: 0.1689 - acc: 0.9491 - val_loss: nan - val_acc: 0.9616\n",
      "Epoch 19/20\n",
      "110288/110288 [==============================] - 55s 499us/step - loss: 0.1571 - acc: 0.9529 - val_loss: nan - val_acc: 0.9631\n",
      "Epoch 20/20\n",
      "110288/110288 [==============================] - 55s 499us/step - loss: 0.1469 - acc: 0.9562 - val_loss: nan - val_acc: 0.9653\n",
      "Sample 1:\n",
      "il a vu un vieux camion jaune <PAD> <PAD> <PAD> <PAD> <PAD> <PAD> <PAD> <PAD> <PAD> <PAD> <PAD> <PAD> <PAD> <PAD>\n",
      "Il a vu un vieux camion jaune\n",
      "Sample 2:\n",
      "new jersey est parfois calme pendant l' automne et est est neigeux en <PAD> <PAD> <PAD> <PAD> <PAD> <PAD> <PAD> <PAD>\n",
      "new jersey est parfois calme pendant l' automne et il est neigeux en avril <PAD> <PAD> <PAD> <PAD> <PAD> <PAD> <PAD>\n"
     ]
    }
   ],
   "source": [
    "def final_predictions(x, y, x_tk, y_tk):\n",
    "    \"\"\"\n",
    "    Gets predictions using the final model\n",
    "    :param x: Preprocessed English data\n",
    "    :param y: Preprocessed French data\n",
    "    :param x_tk: English tokenizer\n",
    "    :param y_tk: French tokenizer\n",
    "    \"\"\"\n",
    "    # TODO: Train neural network using model_final\n",
    "    model = model_final(\n",
    "        x.shape,\n",
    "        y.shape[1],\n",
    "        len(x_tk.word_index),\n",
    "        len(y_tk.word_index)\n",
    "    )\n",
    "    \n",
    "    model.summary()\n",
    "    \n",
    "    model.fit(x, y, batch_size=1024, epochs=20, validation_split=0.2)\n",
    "    \n",
    "    ## DON'T EDIT ANYTHING BELOW THIS LINE\n",
    "    y_id_to_word = {value: key for key, value in y_tk.word_index.items()}\n",
    "    y_id_to_word[0] = '<PAD>'\n",
    "\n",
    "    sentence = 'he saw a old yellow truck'\n",
    "    sentence = [x_tk.word_index[word] for word in sentence.split()]\n",
    "    sentence = pad_sequences([sentence], maxlen=x.shape[-1], padding='post')\n",
    "    sentences = np.array([sentence[0], x[0]])\n",
    "    predictions = model.predict(sentences, len(sentences))\n",
    "\n",
    "    print('Sample 1:')\n",
    "    print(' '.join([y_id_to_word[np.argmax(x)] for x in predictions[0]]))\n",
    "    print('Il a vu un vieux camion jaune')\n",
    "    print('Sample 2:')\n",
    "    print(' '.join([y_id_to_word[np.argmax(x)] for x in predictions[1]]))\n",
    "    print(' '.join([y_id_to_word[np.max(x)] for x in y[0]]))\n",
    "\n",
    "\n",
    "final_predictions(preproc_en_sentences, preproc_fr_sentences, en_token, fr_token)"
   ]
  },
  {
   "cell_type": "markdown",
   "metadata": {},
   "source": [
    "## Submission\n",
    "When you're ready to submit, complete the following steps:\n",
    "1. Review the [rubric](https://review.udacity.com/#!/rubrics/1004/view) to ensure your submission meets all requirements to pass\n",
    "2. Generate an HTML version of this notebook\n",
    "\n",
    "  - Run the next cell to attempt automatic generation (this is the recommended method in Workspaces)\n",
    "  - Navigate to **FILE -> Download as -> HTML (.html)**\n",
    "  - Manually generate a copy using `nbconvert` from your shell terminal\n",
    "```\n",
    "$ pip install nbconvert\n",
    "$ python -m nbconvert machine_translation.ipynb\n",
    "```\n",
    "  \n",
    "3. Submit the project\n",
    "\n",
    "  - If you are in a Workspace, simply click the \"Submit Project\" button (bottom towards the right)\n",
    "  \n",
    "  - Otherwise, add the following files into a zip archive and submit them \n",
    "  - `helper.py`\n",
    "  - `machine_translation.ipynb`\n",
    "  - `machine_translation.html`\n",
    "    - You can export the notebook by navigating to **File -> Download as -> HTML (.html)**."
   ]
  },
  {
   "cell_type": "markdown",
   "metadata": {},
   "source": [
    "### Generate the html\n",
    "\n",
    "**Save your notebook before running the next cell to generate the HTML output.** Then submit your project."
   ]
  },
  {
   "cell_type": "code",
   "execution_count": 1,
   "metadata": {},
   "outputs": [
    {
     "data": {
      "text/plain": [
       "['[NbConvertApp] Converting notebook machine_translation.ipynb to html',\n",
       " '[NbConvertApp] Writing 385196 bytes to machine_translation.html',\n",
       " '[NbConvertApp] Converting notebook machine_translation-zh.ipynb to html',\n",
       " '[NbConvertApp] Writing 328614 bytes to machine_translation-zh.html']"
      ]
     },
     "execution_count": 1,
     "metadata": {},
     "output_type": "execute_result"
    }
   ],
   "source": [
    "# Save before you run this cell!\n",
    "!!jupyter nbconvert *.ipynb"
   ]
  },
  {
   "cell_type": "markdown",
   "metadata": {},
   "source": [
    "## Optional Enhancements\n",
    "\n",
    "This project focuses on learning various network architectures for machine translation, but we don't evaluate the models according to best practices by splitting the data into separate test & training sets -- so the model accuracy is overstated. Use the [`sklearn.model_selection.train_test_split()`](http://scikit-learn.org/stable/modules/generated/sklearn.model_selection.train_test_split.html) function to create separate training & test datasets, then retrain each of the models using only the training set and evaluate the prediction accuracy using the hold out test set. Does the \"best\" model change?"
   ]
  }
 ],
 "metadata": {
  "kernelspec": {
   "display_name": "Python 3",
   "language": "python",
   "name": "python3"
  },
  "language_info": {
   "codemirror_mode": {
    "name": "ipython",
    "version": 3
   },
   "file_extension": ".py",
   "mimetype": "text/x-python",
   "name": "python",
   "nbconvert_exporter": "python",
   "pygments_lexer": "ipython3",
   "version": "3.6.3"
  }
 },
 "nbformat": 4,
 "nbformat_minor": 1
}
